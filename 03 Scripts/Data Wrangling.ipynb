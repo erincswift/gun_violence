{
 "cells": [
  {
   "cell_type": "markdown",
   "id": "3c68c5f1",
   "metadata": {},
   "source": [
    "# Data Wrangling"
   ]
  },
  {
   "cell_type": "markdown",
   "id": "8ec4c477",
   "metadata": {},
   "source": [
    "## Contents\n",
    "\n",
    "#### 1. Import libraries and data\n",
    "#### 2. Append comparision variables \n",
    "        Year\n",
    "        Month\n",
    "        Quarter Date\n",
    "#### 3. Merge unemployment data\n",
    "#### 4. Export data "
   ]
  },
  {
   "cell_type": "markdown",
   "id": "6e1a3e28",
   "metadata": {},
   "source": [
    "## 1.0 Prepare Kernel"
   ]
  },
  {
   "cell_type": "markdown",
   "id": "3a5df2b7",
   "metadata": {},
   "source": [
    "### 1.1 Import Libraries"
   ]
  },
  {
   "cell_type": "code",
   "execution_count": 1,
   "id": "ce19985c",
   "metadata": {},
   "outputs": [],
   "source": [
    "# Importing Libraries\n",
    "import pandas as pd\n",
    "import numpy as np\n",
    "import os\n",
    "import warnings\n",
    "import quandl\n",
    "from datetime import datetime\n",
    "\n",
    "# Disable deprecation warnings \n",
    "warnings.filterwarnings(\"ignore\")\n"
   ]
  },
  {
   "cell_type": "markdown",
   "id": "a169364b",
   "metadata": {},
   "source": [
    "### 1.2 Import Data"
   ]
  },
  {
   "cell_type": "markdown",
   "id": "d3af0c51",
   "metadata": {},
   "source": [
    "#### 1.2.1 Import dataset relating to gun violence"
   ]
  },
  {
   "cell_type": "code",
   "execution_count": 8,
   "id": "a5477f2e",
   "metadata": {},
   "outputs": [],
   "source": [
    "# Define path\n",
    "path = r'C:\\Users\\Owner\\Documents\\Career Foundry\\Gun Violence'\n",
    "\n",
    "# Import data\n",
    "df_g = pd.read_csv(os.path.join(path, '02 Data', '02 02 Prepared Data', 'gun_violence_clean_addition.csv'))"
   ]
  },
  {
   "cell_type": "code",
   "execution_count": 9,
   "id": "7d51d6e8",
   "metadata": {},
   "outputs": [
    {
     "data": {
      "text/plain": [
       "(239677, 21)"
      ]
     },
     "execution_count": 9,
     "metadata": {},
     "output_type": "execute_result"
    }
   ],
   "source": [
    "df_g.shape"
   ]
  },
  {
   "cell_type": "code",
   "execution_count": 10,
   "id": "c5b74b1a",
   "metadata": {},
   "outputs": [
    {
     "data": {
      "text/html": [
       "<div>\n",
       "<style scoped>\n",
       "    .dataframe tbody tr th:only-of-type {\n",
       "        vertical-align: middle;\n",
       "    }\n",
       "\n",
       "    .dataframe tbody tr th {\n",
       "        vertical-align: top;\n",
       "    }\n",
       "\n",
       "    .dataframe thead th {\n",
       "        text-align: right;\n",
       "    }\n",
       "</style>\n",
       "<table border=\"1\" class=\"dataframe\">\n",
       "  <thead>\n",
       "    <tr style=\"text-align: right;\">\n",
       "      <th></th>\n",
       "      <th>incident_id</th>\n",
       "      <th>date</th>\n",
       "      <th>state</th>\n",
       "      <th>city_or_county</th>\n",
       "      <th>n_killed</th>\n",
       "      <th>n_injured</th>\n",
       "      <th>congressional_district</th>\n",
       "      <th>incident_characteristics</th>\n",
       "      <th>latitude</th>\n",
       "      <th>longitude</th>\n",
       "      <th>...</th>\n",
       "      <th>participant_age</th>\n",
       "      <th>participant_age_group</th>\n",
       "      <th>participant_gender</th>\n",
       "      <th>participant_status</th>\n",
       "      <th>participant_type</th>\n",
       "      <th>state_house_district</th>\n",
       "      <th>state_senate_district</th>\n",
       "      <th>date_int</th>\n",
       "      <th>Gun Usage</th>\n",
       "      <th>region</th>\n",
       "    </tr>\n",
       "  </thead>\n",
       "  <tbody>\n",
       "    <tr>\n",
       "      <th>0</th>\n",
       "      <td>461105</td>\n",
       "      <td>1/1/2013</td>\n",
       "      <td>Pennsylvania</td>\n",
       "      <td>Mckeesport</td>\n",
       "      <td>0</td>\n",
       "      <td>4</td>\n",
       "      <td>14.0</td>\n",
       "      <td>Shot - Wounded/Injured||Mass Shooting (4+ vict...</td>\n",
       "      <td>40.3467</td>\n",
       "      <td>40.3467</td>\n",
       "      <td>...</td>\n",
       "      <td>0::20</td>\n",
       "      <td>0::Adult 18+||1::Adult 18+||2::Adult 18+||3::A...</td>\n",
       "      <td>0::Male||1::Male||3::Male||4::Female</td>\n",
       "      <td>0::Arrested||1::Injured||2::Injured||3::Injure...</td>\n",
       "      <td>0::Victim||1::Victim||2::Victim||3::Victim||4:...</td>\n",
       "      <td>NaN</td>\n",
       "      <td>NaN</td>\n",
       "      <td>20130101</td>\n",
       "      <td>NaN</td>\n",
       "      <td>Northeast</td>\n",
       "    </tr>\n",
       "    <tr>\n",
       "      <th>1</th>\n",
       "      <td>460726</td>\n",
       "      <td>1/1/2013</td>\n",
       "      <td>California</td>\n",
       "      <td>Hawthorne</td>\n",
       "      <td>1</td>\n",
       "      <td>3</td>\n",
       "      <td>43.0</td>\n",
       "      <td>Shot - Wounded/Injured||Shot - Dead (murder, a...</td>\n",
       "      <td>33.9090</td>\n",
       "      <td>33.9090</td>\n",
       "      <td>...</td>\n",
       "      <td>0::20</td>\n",
       "      <td>0::Adult 18+||1::Adult 18+||2::Adult 18+||3::A...</td>\n",
       "      <td>0::Male</td>\n",
       "      <td>0::Killed||1::Injured||2::Injured||3::Injured</td>\n",
       "      <td>0::Victim||1::Victim||2::Victim||3::Victim||4:...</td>\n",
       "      <td>62.0</td>\n",
       "      <td>35.0</td>\n",
       "      <td>20130101</td>\n",
       "      <td>NaN</td>\n",
       "      <td>West</td>\n",
       "    </tr>\n",
       "    <tr>\n",
       "      <th>2</th>\n",
       "      <td>478855</td>\n",
       "      <td>1/1/2013</td>\n",
       "      <td>Ohio</td>\n",
       "      <td>Lorain</td>\n",
       "      <td>1</td>\n",
       "      <td>3</td>\n",
       "      <td>9.0</td>\n",
       "      <td>Shot - Wounded/Injured||Shot - Dead (murder, a...</td>\n",
       "      <td>41.4455</td>\n",
       "      <td>41.4455</td>\n",
       "      <td>...</td>\n",
       "      <td>0::25||1::31||2::33||3::34||4::33</td>\n",
       "      <td>0::Adult 18+||1::Adult 18+||2::Adult 18+||3::A...</td>\n",
       "      <td>0::Male||1::Male||2::Male||3::Male||4::Male</td>\n",
       "      <td>0::Injured, Unharmed, Arrested||1::Unharmed, A...</td>\n",
       "      <td>0::Subject-Suspect||1::Subject-Suspect||2::Vic...</td>\n",
       "      <td>56.0</td>\n",
       "      <td>13.0</td>\n",
       "      <td>20130101</td>\n",
       "      <td>Multiple Guns</td>\n",
       "      <td>Midwest</td>\n",
       "    </tr>\n",
       "    <tr>\n",
       "      <th>3</th>\n",
       "      <td>478925</td>\n",
       "      <td>1/5/2013</td>\n",
       "      <td>Colorado</td>\n",
       "      <td>Aurora</td>\n",
       "      <td>4</td>\n",
       "      <td>0</td>\n",
       "      <td>6.0</td>\n",
       "      <td>Shot - Dead (murder, accidental, suicide)||Off...</td>\n",
       "      <td>39.6518</td>\n",
       "      <td>39.6518</td>\n",
       "      <td>...</td>\n",
       "      <td>0::29||1::33||2::56||3::33</td>\n",
       "      <td>0::Adult 18+||1::Adult 18+||2::Adult 18+||3::A...</td>\n",
       "      <td>0::Female||1::Male||2::Male||3::Male</td>\n",
       "      <td>0::Killed||1::Killed||2::Killed||3::Killed</td>\n",
       "      <td>0::Victim||1::Victim||2::Victim||3::Subject-Su...</td>\n",
       "      <td>40.0</td>\n",
       "      <td>28.0</td>\n",
       "      <td>20130105</td>\n",
       "      <td>NaN</td>\n",
       "      <td>West</td>\n",
       "    </tr>\n",
       "    <tr>\n",
       "      <th>4</th>\n",
       "      <td>478959</td>\n",
       "      <td>1/7/2013</td>\n",
       "      <td>North Carolina</td>\n",
       "      <td>Greensboro</td>\n",
       "      <td>2</td>\n",
       "      <td>2</td>\n",
       "      <td>6.0</td>\n",
       "      <td>Shot - Wounded/Injured||Shot - Dead (murder, a...</td>\n",
       "      <td>36.1140</td>\n",
       "      <td>36.1140</td>\n",
       "      <td>...</td>\n",
       "      <td>0::18||1::46||2::14||3::47</td>\n",
       "      <td>0::Adult 18+||1::Adult 18+||2::Teen 12-17||3::...</td>\n",
       "      <td>0::Female||1::Male||2::Male||3::Female</td>\n",
       "      <td>0::Injured||1::Injured||2::Killed||3::Killed</td>\n",
       "      <td>0::Victim||1::Victim||2::Victim||3::Subject-Su...</td>\n",
       "      <td>62.0</td>\n",
       "      <td>27.0</td>\n",
       "      <td>20130107</td>\n",
       "      <td>Multiple Guns</td>\n",
       "      <td>South</td>\n",
       "    </tr>\n",
       "  </tbody>\n",
       "</table>\n",
       "<p>5 rows × 21 columns</p>\n",
       "</div>"
      ],
      "text/plain": [
       "   incident_id      date           state city_or_county  n_killed  n_injured  \\\n",
       "0       461105  1/1/2013    Pennsylvania     Mckeesport         0          4   \n",
       "1       460726  1/1/2013      California      Hawthorne         1          3   \n",
       "2       478855  1/1/2013            Ohio         Lorain         1          3   \n",
       "3       478925  1/5/2013        Colorado         Aurora         4          0   \n",
       "4       478959  1/7/2013  North Carolina     Greensboro         2          2   \n",
       "\n",
       "   congressional_district                           incident_characteristics  \\\n",
       "0                    14.0  Shot - Wounded/Injured||Mass Shooting (4+ vict...   \n",
       "1                    43.0  Shot - Wounded/Injured||Shot - Dead (murder, a...   \n",
       "2                     9.0  Shot - Wounded/Injured||Shot - Dead (murder, a...   \n",
       "3                     6.0  Shot - Dead (murder, accidental, suicide)||Off...   \n",
       "4                     6.0  Shot - Wounded/Injured||Shot - Dead (murder, a...   \n",
       "\n",
       "   latitude  longitude  ...                    participant_age  \\\n",
       "0   40.3467    40.3467  ...                              0::20   \n",
       "1   33.9090    33.9090  ...                              0::20   \n",
       "2   41.4455    41.4455  ...  0::25||1::31||2::33||3::34||4::33   \n",
       "3   39.6518    39.6518  ...         0::29||1::33||2::56||3::33   \n",
       "4   36.1140    36.1140  ...         0::18||1::46||2::14||3::47   \n",
       "\n",
       "                               participant_age_group  \\\n",
       "0  0::Adult 18+||1::Adult 18+||2::Adult 18+||3::A...   \n",
       "1  0::Adult 18+||1::Adult 18+||2::Adult 18+||3::A...   \n",
       "2  0::Adult 18+||1::Adult 18+||2::Adult 18+||3::A...   \n",
       "3  0::Adult 18+||1::Adult 18+||2::Adult 18+||3::A...   \n",
       "4  0::Adult 18+||1::Adult 18+||2::Teen 12-17||3::...   \n",
       "\n",
       "                            participant_gender  \\\n",
       "0         0::Male||1::Male||3::Male||4::Female   \n",
       "1                                      0::Male   \n",
       "2  0::Male||1::Male||2::Male||3::Male||4::Male   \n",
       "3         0::Female||1::Male||2::Male||3::Male   \n",
       "4       0::Female||1::Male||2::Male||3::Female   \n",
       "\n",
       "                                  participant_status  \\\n",
       "0  0::Arrested||1::Injured||2::Injured||3::Injure...   \n",
       "1      0::Killed||1::Injured||2::Injured||3::Injured   \n",
       "2  0::Injured, Unharmed, Arrested||1::Unharmed, A...   \n",
       "3         0::Killed||1::Killed||2::Killed||3::Killed   \n",
       "4       0::Injured||1::Injured||2::Killed||3::Killed   \n",
       "\n",
       "                                    participant_type state_house_district  \\\n",
       "0  0::Victim||1::Victim||2::Victim||3::Victim||4:...                  NaN   \n",
       "1  0::Victim||1::Victim||2::Victim||3::Victim||4:...                 62.0   \n",
       "2  0::Subject-Suspect||1::Subject-Suspect||2::Vic...                 56.0   \n",
       "3  0::Victim||1::Victim||2::Victim||3::Subject-Su...                 40.0   \n",
       "4  0::Victim||1::Victim||2::Victim||3::Subject-Su...                 62.0   \n",
       "\n",
       "   state_senate_district  date_int      Gun Usage     region  \n",
       "0                    NaN  20130101            NaN  Northeast  \n",
       "1                   35.0  20130101            NaN       West  \n",
       "2                   13.0  20130101  Multiple Guns    Midwest  \n",
       "3                   28.0  20130105            NaN       West  \n",
       "4                   27.0  20130107  Multiple Guns      South  \n",
       "\n",
       "[5 rows x 21 columns]"
      ]
     },
     "execution_count": 10,
     "metadata": {},
     "output_type": "execute_result"
    }
   ],
   "source": [
    "df_g.head(5)"
   ]
  },
  {
   "cell_type": "markdown",
   "id": "b059e40e",
   "metadata": {},
   "source": [
    "#### 1.2.2 Import dataset from Federal Reserve datasets"
   ]
  },
  {
   "cell_type": "markdown",
   "id": "72ae8599",
   "metadata": {},
   "source": [
    "Importing the Federal Reserve Economic Data \"Natural Rate of Unemployment\" variable for use as comparison to gun incidents"
   ]
  },
  {
   "cell_type": "code",
   "execution_count": 3,
   "id": "9bf7e691",
   "metadata": {},
   "outputs": [],
   "source": [
    "# Configure API key \n",
    "quandl.ApiConfig.api_key = 'r8kfPxqsghpTLz1h4eXK'"
   ]
  },
  {
   "cell_type": "code",
   "execution_count": 11,
   "id": "fa223b4a",
   "metadata": {},
   "outputs": [],
   "source": [
    "# Importing data\n",
    "df_u = quandl.get('FRED/NROUST')"
   ]
  },
  {
   "cell_type": "code",
   "execution_count": 12,
   "id": "069649be",
   "metadata": {},
   "outputs": [
    {
     "data": {
      "text/plain": [
       "(332, 1)"
      ]
     },
     "execution_count": 12,
     "metadata": {},
     "output_type": "execute_result"
    }
   ],
   "source": [
    "df_u.shape"
   ]
  },
  {
   "cell_type": "code",
   "execution_count": 13,
   "id": "eac27571",
   "metadata": {},
   "outputs": [
    {
     "data": {
      "text/html": [
       "<div>\n",
       "<style scoped>\n",
       "    .dataframe tbody tr th:only-of-type {\n",
       "        vertical-align: middle;\n",
       "    }\n",
       "\n",
       "    .dataframe tbody tr th {\n",
       "        vertical-align: top;\n",
       "    }\n",
       "\n",
       "    .dataframe thead th {\n",
       "        text-align: right;\n",
       "    }\n",
       "</style>\n",
       "<table border=\"1\" class=\"dataframe\">\n",
       "  <thead>\n",
       "    <tr style=\"text-align: right;\">\n",
       "      <th></th>\n",
       "      <th>Value</th>\n",
       "    </tr>\n",
       "    <tr>\n",
       "      <th>Date</th>\n",
       "      <th></th>\n",
       "    </tr>\n",
       "  </thead>\n",
       "  <tbody>\n",
       "    <tr>\n",
       "      <th>1949-01-01</th>\n",
       "      <td>5.255053</td>\n",
       "    </tr>\n",
       "    <tr>\n",
       "      <th>1949-04-01</th>\n",
       "      <td>5.261516</td>\n",
       "    </tr>\n",
       "    <tr>\n",
       "      <th>1949-07-01</th>\n",
       "      <td>5.268013</td>\n",
       "    </tr>\n",
       "    <tr>\n",
       "      <th>1949-10-01</th>\n",
       "      <td>5.274564</td>\n",
       "    </tr>\n",
       "    <tr>\n",
       "      <th>1950-01-01</th>\n",
       "      <td>5.281182</td>\n",
       "    </tr>\n",
       "  </tbody>\n",
       "</table>\n",
       "</div>"
      ],
      "text/plain": [
       "               Value\n",
       "Date                \n",
       "1949-01-01  5.255053\n",
       "1949-04-01  5.261516\n",
       "1949-07-01  5.268013\n",
       "1949-10-01  5.274564\n",
       "1950-01-01  5.281182"
      ]
     },
     "execution_count": 13,
     "metadata": {},
     "output_type": "execute_result"
    }
   ],
   "source": [
    "df_u.head(5)"
   ]
  },
  {
   "cell_type": "markdown",
   "id": "10dd2d0d",
   "metadata": {},
   "source": [
    "## 2.0 Append Comparison Variables"
   ]
  },
  {
   "cell_type": "markdown",
   "id": "e8331cff",
   "metadata": {},
   "source": [
    "### 2.1 Prepare Data"
   ]
  },
  {
   "cell_type": "code",
   "execution_count": 19,
   "id": "a55346b3",
   "metadata": {},
   "outputs": [
    {
     "data": {
      "text/plain": [
       "dtype('O')"
      ]
     },
     "execution_count": 19,
     "metadata": {},
     "output_type": "execute_result"
    }
   ],
   "source": [
    "# Review current datatype for date column\n",
    "df_g['date'].dtypes"
   ]
  },
  {
   "cell_type": "code",
   "execution_count": 75,
   "id": "191bcf1d",
   "metadata": {},
   "outputs": [],
   "source": [
    "# Convert date to datetime\n",
    "df_g['date']= pd.to_datetime(df_g['date'])"
   ]
  },
  {
   "cell_type": "code",
   "execution_count": 76,
   "id": "f5f15606",
   "metadata": {},
   "outputs": [
    {
     "data": {
      "text/plain": [
       "dtype('<M8[ns]')"
      ]
     },
     "execution_count": 76,
     "metadata": {},
     "output_type": "execute_result"
    }
   ],
   "source": [
    "# Check conversion\n",
    "df_g['date'].dtypes"
   ]
  },
  {
   "cell_type": "markdown",
   "id": "93aeb85e",
   "metadata": {},
   "source": [
    "### 2.2 Append Comparison variables"
   ]
  },
  {
   "cell_type": "markdown",
   "id": "34a26d68",
   "metadata": {},
   "source": [
    "#### 2.2.1 Year of incident as year"
   ]
  },
  {
   "cell_type": "code",
   "execution_count": 23,
   "id": "ad23b612",
   "metadata": {},
   "outputs": [],
   "source": [
    "# Append year to dataframe for yearly comparisons\n",
    "df_g['year'] = df_g['date'].dt.year"
   ]
  },
  {
   "cell_type": "code",
   "execution_count": 28,
   "id": "1a666b3e",
   "metadata": {},
   "outputs": [
    {
     "data": {
      "text/plain": [
       "2017    61401\n",
       "2016    58763\n",
       "2015    53579\n",
       "2014    51854\n",
       "2018    13802\n",
       "2013      278\n",
       "Name: year, dtype: int64"
      ]
     },
     "execution_count": 28,
     "metadata": {},
     "output_type": "execute_result"
    }
   ],
   "source": [
    "df_g['year'].value_counts(dropna = False)"
   ]
  },
  {
   "cell_type": "markdown",
   "id": "8e800cb2",
   "metadata": {},
   "source": [
    "#### 2.2.2 Month of incident as month"
   ]
  },
  {
   "cell_type": "code",
   "execution_count": 26,
   "id": "b7487008",
   "metadata": {},
   "outputs": [],
   "source": [
    "# Append month to dataframe for monthly comparisons\n",
    "df_g['month'] = df_g['date'].dt.month"
   ]
  },
  {
   "cell_type": "code",
   "execution_count": 30,
   "id": "49d7cd82",
   "metadata": {},
   "outputs": [
    {
     "data": {
      "text/plain": [
       "1     23091\n",
       "3     22640\n",
       "7     21126\n",
       "8     21040\n",
       "5     19930\n",
       "10    19890\n",
       "9     19656\n",
       "2     18841\n",
       "6     18755\n",
       "4     18628\n",
       "12    18106\n",
       "11    17974\n",
       "Name: month, dtype: int64"
      ]
     },
     "execution_count": 30,
     "metadata": {},
     "output_type": "execute_result"
    }
   ],
   "source": [
    "df_g['month'].value_counts(dropna = False)"
   ]
  },
  {
   "cell_type": "markdown",
   "id": "c2fab616",
   "metadata": {},
   "source": [
    "#### 2.2.3 Quarter date"
   ]
  },
  {
   "cell_type": "markdown",
   "id": "6ffdb62b",
   "metadata": {},
   "source": [
    "Use date of incident to assign a quarter date that coincides with date unemployment date of Federal Reserve data"
   ]
  },
  {
   "cell_type": "code",
   "execution_count": 39,
   "id": "b9bf4c6e",
   "metadata": {},
   "outputs": [],
   "source": [
    "df_g.loc[(df_g['date'] >= '2013-01-01') & (df_g['date'] < '2013-04-01'), 'unemployment_date'] = '2013-01-01'"
   ]
  },
  {
   "cell_type": "code",
   "execution_count": 41,
   "id": "888544ba",
   "metadata": {},
   "outputs": [],
   "source": [
    "df_g.loc[(df_g['date'] >= '2013-04-01') & (df_g['date'] < '2013-07-01'), 'unemployment_date'] = '2013-04-01'"
   ]
  },
  {
   "cell_type": "code",
   "execution_count": 42,
   "id": "e968daa7",
   "metadata": {},
   "outputs": [],
   "source": [
    "df_g.loc[(df_g['date'] >= '2013-07-01') & (df_g['date'] < '2013-10-01'), 'unemployment_date'] = '2013-07-01'"
   ]
  },
  {
   "cell_type": "code",
   "execution_count": 43,
   "id": "253a1dc1",
   "metadata": {},
   "outputs": [],
   "source": [
    "df_g.loc[(df_g['date'] >= '2013-10-01') & (df_g['date'] < '2014-01-01'), 'unemployment_date'] = '2013-10-01'"
   ]
  },
  {
   "cell_type": "code",
   "execution_count": 44,
   "id": "4245e139",
   "metadata": {},
   "outputs": [],
   "source": [
    "df_g.loc[(df_g['date'] >= '2014-01-01') & (df_g['date'] < '2014-04-01'), 'unemployment_date'] = '2014-01-01'"
   ]
  },
  {
   "cell_type": "code",
   "execution_count": 45,
   "id": "c217c353",
   "metadata": {},
   "outputs": [],
   "source": [
    "df_g.loc[(df_g['date'] >= '2014-04-01') & (df_g['date'] < '2014-07-01'), 'unemployment_date'] = '2014-04-01'"
   ]
  },
  {
   "cell_type": "code",
   "execution_count": 46,
   "id": "69bff026",
   "metadata": {},
   "outputs": [],
   "source": [
    "df_g.loc[(df_g['date'] >= '2014-07-01') & (df_g['date'] < '2014-10-01'), 'unemployment_date'] = '2014-07-01'"
   ]
  },
  {
   "cell_type": "code",
   "execution_count": 47,
   "id": "0854cd07",
   "metadata": {},
   "outputs": [],
   "source": [
    "df_g.loc[(df_g['date'] >= '2014-10-01') & (df_g['date'] < '2015-01-01'), 'unemployment_date'] = '2014-10-01'"
   ]
  },
  {
   "cell_type": "code",
   "execution_count": 49,
   "id": "a4088b80",
   "metadata": {},
   "outputs": [],
   "source": [
    "df_g.loc[(df_g['date'] >= '2015-01-01') & (df_g['date'] < '2015-04-01'), 'unemployment_date'] = '2015-01-01'"
   ]
  },
  {
   "cell_type": "code",
   "execution_count": 50,
   "id": "03888933",
   "metadata": {},
   "outputs": [],
   "source": [
    "df_g.loc[(df_g['date'] >= '2015-04-01') & (df_g['date'] < '2015-07-01'), 'unemployment_date'] = '2015-04-01'"
   ]
  },
  {
   "cell_type": "code",
   "execution_count": 51,
   "id": "a924a654",
   "metadata": {},
   "outputs": [],
   "source": [
    "df_g.loc[(df_g['date'] >= '2015-07-01') & (df_g['date'] < '2015-10-01'), 'unemployment_date'] = '2015-07-01'"
   ]
  },
  {
   "cell_type": "code",
   "execution_count": 52,
   "id": "67801ca6",
   "metadata": {},
   "outputs": [],
   "source": [
    "df_g.loc[(df_g['date'] >= '2015-10-01') & (df_g['date'] < '2016-01-01'), 'unemployment_date'] = '2015-10-01'"
   ]
  },
  {
   "cell_type": "code",
   "execution_count": 53,
   "id": "42cebf3b",
   "metadata": {},
   "outputs": [],
   "source": [
    "df_g.loc[(df_g['date'] >= '2016-01-01') & (df_g['date'] < '2016-04-01'), 'unemployment_date'] = '2016-01-01'"
   ]
  },
  {
   "cell_type": "code",
   "execution_count": 54,
   "id": "b2d80511",
   "metadata": {},
   "outputs": [],
   "source": [
    "df_g.loc[(df_g['date'] >= '2016-04-01') & (df_g['date'] < '2016-07-01'), 'unemployment_date'] = '2016-04-01'"
   ]
  },
  {
   "cell_type": "code",
   "execution_count": 55,
   "id": "63467410",
   "metadata": {},
   "outputs": [],
   "source": [
    "df_g.loc[(df_g['date'] >= '2016-07-01') & (df_g['date'] < '2016-10-01'), 'unemployment_date'] = '2016-07-01'"
   ]
  },
  {
   "cell_type": "code",
   "execution_count": 56,
   "id": "df1c0916",
   "metadata": {},
   "outputs": [],
   "source": [
    "df_g.loc[(df_g['date'] >= '2016-10-01') & (df_g['date'] < '2017-01-01'), 'unemployment_date'] = '2016-10-01'"
   ]
  },
  {
   "cell_type": "code",
   "execution_count": 57,
   "id": "3298992b",
   "metadata": {},
   "outputs": [],
   "source": [
    "df_g.loc[(df_g['date'] >= '2017-01-01') & (df_g['date'] < '2017-04-01'), 'unemployment_date'] = '2017-01-01'"
   ]
  },
  {
   "cell_type": "code",
   "execution_count": 58,
   "id": "aa224269",
   "metadata": {},
   "outputs": [],
   "source": [
    "df_g.loc[(df_g['date'] >= '2017-04-01') & (df_g['date'] < '2017-07-01'), 'unemployment_date'] = '2017-04-01'"
   ]
  },
  {
   "cell_type": "code",
   "execution_count": 59,
   "id": "1672b0d9",
   "metadata": {},
   "outputs": [],
   "source": [
    "df_g.loc[(df_g['date'] >= '2017-07-01') & (df_g['date'] < '2017-10-01'), 'unemployment_date'] = '2017-07-01'"
   ]
  },
  {
   "cell_type": "code",
   "execution_count": 60,
   "id": "ef0ae800",
   "metadata": {},
   "outputs": [],
   "source": [
    "df_g.loc[(df_g['date'] >= '2017-10-01') & (df_g['date'] < '2018-01-01'), 'unemployment_date'] = '2017-10-01'"
   ]
  },
  {
   "cell_type": "code",
   "execution_count": 61,
   "id": "cbe73e6c",
   "metadata": {},
   "outputs": [],
   "source": [
    "df_g.loc[(df_g['date'] >= '2018-01-01') & (df_g['date'] < '2018-04-01'), 'unemployment_date'] = '2018-01-01'"
   ]
  },
  {
   "cell_type": "code",
   "execution_count": 62,
   "id": "c27d33c3",
   "metadata": {},
   "outputs": [],
   "source": [
    "df_g.loc[(df_g['date'] >= '2018-04-01') & (df_g['date'] < '2018-07-01'), 'unemployment_date'] = '2018-04-01'"
   ]
  },
  {
   "cell_type": "code",
   "execution_count": 63,
   "id": "040fccd0",
   "metadata": {},
   "outputs": [],
   "source": [
    "df_g.loc[(df_g['date'] >= '2018-07-01') & (df_g['date'] < '2018-10-01'), 'unemployment_date'] = '2018-07-01'"
   ]
  },
  {
   "cell_type": "code",
   "execution_count": 64,
   "id": "121a8e72",
   "metadata": {},
   "outputs": [],
   "source": [
    "df_g.loc[(df_g['date'] >= '2018-10-01') & (df_g['date'] < '2019-01-01'), 'unemployment_date'] = '2018-10-01'"
   ]
  },
  {
   "cell_type": "code",
   "execution_count": 65,
   "id": "1176f602",
   "metadata": {},
   "outputs": [
    {
     "data": {
      "text/plain": [
       "2017-04-01    16401\n",
       "2016-07-01    15714\n",
       "2017-07-01    15539\n",
       "2014-07-01    15530\n",
       "2016-10-01    15496\n",
       "2015-07-01    14949\n",
       "2017-01-01    14837\n",
       "2017-10-01    14624\n",
       "2016-04-01    14104\n",
       "2015-04-01    14082\n",
       "2018-01-01    13802\n",
       "2016-01-01    13449\n",
       "2015-10-01    13219\n",
       "2014-04-01    12651\n",
       "2014-10-01    12564\n",
       "2015-01-01    11329\n",
       "2014-01-01    11109\n",
       "2013-07-01       90\n",
       "2013-04-01       75\n",
       "2013-10-01       67\n",
       "2013-01-01       46\n",
       "Name: unemployment_date, dtype: int64"
      ]
     },
     "execution_count": 65,
     "metadata": {},
     "output_type": "execute_result"
    }
   ],
   "source": [
    "df_g['unemployment_date'].value_counts(dropna = False)"
   ]
  },
  {
   "cell_type": "markdown",
   "id": "38ca3413",
   "metadata": {},
   "source": [
    "## 3.0 Merge Data"
   ]
  },
  {
   "cell_type": "markdown",
   "id": "4632181a",
   "metadata": {},
   "source": [
    "Merge data from Federal Reserve unemployment data with gun violence data"
   ]
  },
  {
   "cell_type": "markdown",
   "id": "0bf52b51",
   "metadata": {},
   "source": [
    "### 3.1 Prepare data"
   ]
  },
  {
   "cell_type": "code",
   "execution_count": 73,
   "id": "6e578514",
   "metadata": {},
   "outputs": [],
   "source": [
    "# Reset index to filter date to match gun violence dates\n",
    "df_u2 = df_u.reset_index()"
   ]
  },
  {
   "cell_type": "code",
   "execution_count": 77,
   "id": "964d7cce",
   "metadata": {},
   "outputs": [],
   "source": [
    "# Convert unemployment_date to datetime\n",
    "df_g['unemployment_date']= pd.to_datetime(df_g['unemployment_date'])"
   ]
  },
  {
   "cell_type": "markdown",
   "id": "c2e39ded",
   "metadata": {},
   "source": [
    "### 3.2 Merge data"
   ]
  },
  {
   "cell_type": "code",
   "execution_count": 78,
   "id": "2af6ed0a",
   "metadata": {},
   "outputs": [],
   "source": [
    "#Merge gun violence data with unemployment data on unemployment date created\n",
    "df_merged = df_g.merge(df_u2, how='left', left_on='unemployment_date', right_on='Date')"
   ]
  },
  {
   "cell_type": "code",
   "execution_count": 79,
   "id": "729db272",
   "metadata": {},
   "outputs": [
    {
     "data": {
      "text/html": [
       "<div>\n",
       "<style scoped>\n",
       "    .dataframe tbody tr th:only-of-type {\n",
       "        vertical-align: middle;\n",
       "    }\n",
       "\n",
       "    .dataframe tbody tr th {\n",
       "        vertical-align: top;\n",
       "    }\n",
       "\n",
       "    .dataframe thead th {\n",
       "        text-align: right;\n",
       "    }\n",
       "</style>\n",
       "<table border=\"1\" class=\"dataframe\">\n",
       "  <thead>\n",
       "    <tr style=\"text-align: right;\">\n",
       "      <th></th>\n",
       "      <th>incident_id</th>\n",
       "      <th>date</th>\n",
       "      <th>state</th>\n",
       "      <th>city_or_county</th>\n",
       "      <th>n_killed</th>\n",
       "      <th>n_injured</th>\n",
       "      <th>congressional_district</th>\n",
       "      <th>incident_characteristics</th>\n",
       "      <th>latitude</th>\n",
       "      <th>longitude</th>\n",
       "      <th>...</th>\n",
       "      <th>state_house_district</th>\n",
       "      <th>state_senate_district</th>\n",
       "      <th>date_int</th>\n",
       "      <th>Gun Usage</th>\n",
       "      <th>region</th>\n",
       "      <th>year</th>\n",
       "      <th>month</th>\n",
       "      <th>unemployment_date</th>\n",
       "      <th>Date</th>\n",
       "      <th>Value</th>\n",
       "    </tr>\n",
       "  </thead>\n",
       "  <tbody>\n",
       "    <tr>\n",
       "      <th>0</th>\n",
       "      <td>461105</td>\n",
       "      <td>2013-01-01</td>\n",
       "      <td>Pennsylvania</td>\n",
       "      <td>Mckeesport</td>\n",
       "      <td>0</td>\n",
       "      <td>4</td>\n",
       "      <td>14.0</td>\n",
       "      <td>Shot - Wounded/Injured||Mass Shooting (4+ vict...</td>\n",
       "      <td>40.3467</td>\n",
       "      <td>40.3467</td>\n",
       "      <td>...</td>\n",
       "      <td>NaN</td>\n",
       "      <td>NaN</td>\n",
       "      <td>20130101</td>\n",
       "      <td>NaN</td>\n",
       "      <td>Northeast</td>\n",
       "      <td>2013</td>\n",
       "      <td>1</td>\n",
       "      <td>2013-01-01</td>\n",
       "      <td>2013-01-01</td>\n",
       "      <td>5.516897</td>\n",
       "    </tr>\n",
       "    <tr>\n",
       "      <th>1</th>\n",
       "      <td>460726</td>\n",
       "      <td>2013-01-01</td>\n",
       "      <td>California</td>\n",
       "      <td>Hawthorne</td>\n",
       "      <td>1</td>\n",
       "      <td>3</td>\n",
       "      <td>43.0</td>\n",
       "      <td>Shot - Wounded/Injured||Shot - Dead (murder, a...</td>\n",
       "      <td>33.9090</td>\n",
       "      <td>33.9090</td>\n",
       "      <td>...</td>\n",
       "      <td>62.0</td>\n",
       "      <td>35.0</td>\n",
       "      <td>20130101</td>\n",
       "      <td>NaN</td>\n",
       "      <td>West</td>\n",
       "      <td>2013</td>\n",
       "      <td>1</td>\n",
       "      <td>2013-01-01</td>\n",
       "      <td>2013-01-01</td>\n",
       "      <td>5.516897</td>\n",
       "    </tr>\n",
       "    <tr>\n",
       "      <th>2</th>\n",
       "      <td>478855</td>\n",
       "      <td>2013-01-01</td>\n",
       "      <td>Ohio</td>\n",
       "      <td>Lorain</td>\n",
       "      <td>1</td>\n",
       "      <td>3</td>\n",
       "      <td>9.0</td>\n",
       "      <td>Shot - Wounded/Injured||Shot - Dead (murder, a...</td>\n",
       "      <td>41.4455</td>\n",
       "      <td>41.4455</td>\n",
       "      <td>...</td>\n",
       "      <td>56.0</td>\n",
       "      <td>13.0</td>\n",
       "      <td>20130101</td>\n",
       "      <td>Multiple Guns</td>\n",
       "      <td>Midwest</td>\n",
       "      <td>2013</td>\n",
       "      <td>1</td>\n",
       "      <td>2013-01-01</td>\n",
       "      <td>2013-01-01</td>\n",
       "      <td>5.516897</td>\n",
       "    </tr>\n",
       "    <tr>\n",
       "      <th>3</th>\n",
       "      <td>478925</td>\n",
       "      <td>2013-01-05</td>\n",
       "      <td>Colorado</td>\n",
       "      <td>Aurora</td>\n",
       "      <td>4</td>\n",
       "      <td>0</td>\n",
       "      <td>6.0</td>\n",
       "      <td>Shot - Dead (murder, accidental, suicide)||Off...</td>\n",
       "      <td>39.6518</td>\n",
       "      <td>39.6518</td>\n",
       "      <td>...</td>\n",
       "      <td>40.0</td>\n",
       "      <td>28.0</td>\n",
       "      <td>20130105</td>\n",
       "      <td>NaN</td>\n",
       "      <td>West</td>\n",
       "      <td>2013</td>\n",
       "      <td>1</td>\n",
       "      <td>2013-01-01</td>\n",
       "      <td>2013-01-01</td>\n",
       "      <td>5.516897</td>\n",
       "    </tr>\n",
       "    <tr>\n",
       "      <th>4</th>\n",
       "      <td>478959</td>\n",
       "      <td>2013-01-07</td>\n",
       "      <td>North Carolina</td>\n",
       "      <td>Greensboro</td>\n",
       "      <td>2</td>\n",
       "      <td>2</td>\n",
       "      <td>6.0</td>\n",
       "      <td>Shot - Wounded/Injured||Shot - Dead (murder, a...</td>\n",
       "      <td>36.1140</td>\n",
       "      <td>36.1140</td>\n",
       "      <td>...</td>\n",
       "      <td>62.0</td>\n",
       "      <td>27.0</td>\n",
       "      <td>20130107</td>\n",
       "      <td>Multiple Guns</td>\n",
       "      <td>South</td>\n",
       "      <td>2013</td>\n",
       "      <td>1</td>\n",
       "      <td>2013-01-01</td>\n",
       "      <td>2013-01-01</td>\n",
       "      <td>5.516897</td>\n",
       "    </tr>\n",
       "  </tbody>\n",
       "</table>\n",
       "<p>5 rows × 26 columns</p>\n",
       "</div>"
      ],
      "text/plain": [
       "   incident_id       date           state city_or_county  n_killed  n_injured  \\\n",
       "0       461105 2013-01-01    Pennsylvania     Mckeesport         0          4   \n",
       "1       460726 2013-01-01      California      Hawthorne         1          3   \n",
       "2       478855 2013-01-01            Ohio         Lorain         1          3   \n",
       "3       478925 2013-01-05        Colorado         Aurora         4          0   \n",
       "4       478959 2013-01-07  North Carolina     Greensboro         2          2   \n",
       "\n",
       "   congressional_district                           incident_characteristics  \\\n",
       "0                    14.0  Shot - Wounded/Injured||Mass Shooting (4+ vict...   \n",
       "1                    43.0  Shot - Wounded/Injured||Shot - Dead (murder, a...   \n",
       "2                     9.0  Shot - Wounded/Injured||Shot - Dead (murder, a...   \n",
       "3                     6.0  Shot - Dead (murder, accidental, suicide)||Off...   \n",
       "4                     6.0  Shot - Wounded/Injured||Shot - Dead (murder, a...   \n",
       "\n",
       "   latitude  longitude  ...  state_house_district state_senate_district  \\\n",
       "0   40.3467    40.3467  ...                   NaN                   NaN   \n",
       "1   33.9090    33.9090  ...                  62.0                  35.0   \n",
       "2   41.4455    41.4455  ...                  56.0                  13.0   \n",
       "3   39.6518    39.6518  ...                  40.0                  28.0   \n",
       "4   36.1140    36.1140  ...                  62.0                  27.0   \n",
       "\n",
       "   date_int      Gun Usage     region  year  month  unemployment_date  \\\n",
       "0  20130101            NaN  Northeast  2013      1         2013-01-01   \n",
       "1  20130101            NaN       West  2013      1         2013-01-01   \n",
       "2  20130101  Multiple Guns    Midwest  2013      1         2013-01-01   \n",
       "3  20130105            NaN       West  2013      1         2013-01-01   \n",
       "4  20130107  Multiple Guns      South  2013      1         2013-01-01   \n",
       "\n",
       "        Date     Value  \n",
       "0 2013-01-01  5.516897  \n",
       "1 2013-01-01  5.516897  \n",
       "2 2013-01-01  5.516897  \n",
       "3 2013-01-01  5.516897  \n",
       "4 2013-01-01  5.516897  \n",
       "\n",
       "[5 rows x 26 columns]"
      ]
     },
     "execution_count": 79,
     "metadata": {},
     "output_type": "execute_result"
    }
   ],
   "source": [
    "df_merged.head()"
   ]
  },
  {
   "cell_type": "code",
   "execution_count": 80,
   "id": "4e1f40bc",
   "metadata": {},
   "outputs": [],
   "source": [
    "# Rename FR Date and Value columns\n",
    "df_merged.rename(columns={'Date':'FR_date'}, inplace=True)\n",
    "df_merged.rename(columns={'Value':'unemployment_rate'}, inplace=True)"
   ]
  },
  {
   "cell_type": "code",
   "execution_count": 81,
   "id": "78f7fc39",
   "metadata": {},
   "outputs": [
    {
     "data": {
      "text/html": [
       "<div>\n",
       "<style scoped>\n",
       "    .dataframe tbody tr th:only-of-type {\n",
       "        vertical-align: middle;\n",
       "    }\n",
       "\n",
       "    .dataframe tbody tr th {\n",
       "        vertical-align: top;\n",
       "    }\n",
       "\n",
       "    .dataframe thead th {\n",
       "        text-align: right;\n",
       "    }\n",
       "</style>\n",
       "<table border=\"1\" class=\"dataframe\">\n",
       "  <thead>\n",
       "    <tr style=\"text-align: right;\">\n",
       "      <th></th>\n",
       "      <th>incident_id</th>\n",
       "      <th>date</th>\n",
       "      <th>state</th>\n",
       "      <th>city_or_county</th>\n",
       "      <th>n_killed</th>\n",
       "      <th>n_injured</th>\n",
       "      <th>congressional_district</th>\n",
       "      <th>incident_characteristics</th>\n",
       "      <th>latitude</th>\n",
       "      <th>longitude</th>\n",
       "      <th>...</th>\n",
       "      <th>state_house_district</th>\n",
       "      <th>state_senate_district</th>\n",
       "      <th>date_int</th>\n",
       "      <th>Gun Usage</th>\n",
       "      <th>region</th>\n",
       "      <th>year</th>\n",
       "      <th>month</th>\n",
       "      <th>unemployment_date</th>\n",
       "      <th>FR_date</th>\n",
       "      <th>unemployment_rate</th>\n",
       "    </tr>\n",
       "  </thead>\n",
       "  <tbody>\n",
       "    <tr>\n",
       "      <th>0</th>\n",
       "      <td>461105</td>\n",
       "      <td>2013-01-01</td>\n",
       "      <td>Pennsylvania</td>\n",
       "      <td>Mckeesport</td>\n",
       "      <td>0</td>\n",
       "      <td>4</td>\n",
       "      <td>14.0</td>\n",
       "      <td>Shot - Wounded/Injured||Mass Shooting (4+ vict...</td>\n",
       "      <td>40.3467</td>\n",
       "      <td>40.3467</td>\n",
       "      <td>...</td>\n",
       "      <td>NaN</td>\n",
       "      <td>NaN</td>\n",
       "      <td>20130101</td>\n",
       "      <td>NaN</td>\n",
       "      <td>Northeast</td>\n",
       "      <td>2013</td>\n",
       "      <td>1</td>\n",
       "      <td>2013-01-01</td>\n",
       "      <td>2013-01-01</td>\n",
       "      <td>5.516897</td>\n",
       "    </tr>\n",
       "    <tr>\n",
       "      <th>1</th>\n",
       "      <td>460726</td>\n",
       "      <td>2013-01-01</td>\n",
       "      <td>California</td>\n",
       "      <td>Hawthorne</td>\n",
       "      <td>1</td>\n",
       "      <td>3</td>\n",
       "      <td>43.0</td>\n",
       "      <td>Shot - Wounded/Injured||Shot - Dead (murder, a...</td>\n",
       "      <td>33.9090</td>\n",
       "      <td>33.9090</td>\n",
       "      <td>...</td>\n",
       "      <td>62.0</td>\n",
       "      <td>35.0</td>\n",
       "      <td>20130101</td>\n",
       "      <td>NaN</td>\n",
       "      <td>West</td>\n",
       "      <td>2013</td>\n",
       "      <td>1</td>\n",
       "      <td>2013-01-01</td>\n",
       "      <td>2013-01-01</td>\n",
       "      <td>5.516897</td>\n",
       "    </tr>\n",
       "    <tr>\n",
       "      <th>2</th>\n",
       "      <td>478855</td>\n",
       "      <td>2013-01-01</td>\n",
       "      <td>Ohio</td>\n",
       "      <td>Lorain</td>\n",
       "      <td>1</td>\n",
       "      <td>3</td>\n",
       "      <td>9.0</td>\n",
       "      <td>Shot - Wounded/Injured||Shot - Dead (murder, a...</td>\n",
       "      <td>41.4455</td>\n",
       "      <td>41.4455</td>\n",
       "      <td>...</td>\n",
       "      <td>56.0</td>\n",
       "      <td>13.0</td>\n",
       "      <td>20130101</td>\n",
       "      <td>Multiple Guns</td>\n",
       "      <td>Midwest</td>\n",
       "      <td>2013</td>\n",
       "      <td>1</td>\n",
       "      <td>2013-01-01</td>\n",
       "      <td>2013-01-01</td>\n",
       "      <td>5.516897</td>\n",
       "    </tr>\n",
       "    <tr>\n",
       "      <th>3</th>\n",
       "      <td>478925</td>\n",
       "      <td>2013-01-05</td>\n",
       "      <td>Colorado</td>\n",
       "      <td>Aurora</td>\n",
       "      <td>4</td>\n",
       "      <td>0</td>\n",
       "      <td>6.0</td>\n",
       "      <td>Shot - Dead (murder, accidental, suicide)||Off...</td>\n",
       "      <td>39.6518</td>\n",
       "      <td>39.6518</td>\n",
       "      <td>...</td>\n",
       "      <td>40.0</td>\n",
       "      <td>28.0</td>\n",
       "      <td>20130105</td>\n",
       "      <td>NaN</td>\n",
       "      <td>West</td>\n",
       "      <td>2013</td>\n",
       "      <td>1</td>\n",
       "      <td>2013-01-01</td>\n",
       "      <td>2013-01-01</td>\n",
       "      <td>5.516897</td>\n",
       "    </tr>\n",
       "    <tr>\n",
       "      <th>4</th>\n",
       "      <td>478959</td>\n",
       "      <td>2013-01-07</td>\n",
       "      <td>North Carolina</td>\n",
       "      <td>Greensboro</td>\n",
       "      <td>2</td>\n",
       "      <td>2</td>\n",
       "      <td>6.0</td>\n",
       "      <td>Shot - Wounded/Injured||Shot - Dead (murder, a...</td>\n",
       "      <td>36.1140</td>\n",
       "      <td>36.1140</td>\n",
       "      <td>...</td>\n",
       "      <td>62.0</td>\n",
       "      <td>27.0</td>\n",
       "      <td>20130107</td>\n",
       "      <td>Multiple Guns</td>\n",
       "      <td>South</td>\n",
       "      <td>2013</td>\n",
       "      <td>1</td>\n",
       "      <td>2013-01-01</td>\n",
       "      <td>2013-01-01</td>\n",
       "      <td>5.516897</td>\n",
       "    </tr>\n",
       "  </tbody>\n",
       "</table>\n",
       "<p>5 rows × 26 columns</p>\n",
       "</div>"
      ],
      "text/plain": [
       "   incident_id       date           state city_or_county  n_killed  n_injured  \\\n",
       "0       461105 2013-01-01    Pennsylvania     Mckeesport         0          4   \n",
       "1       460726 2013-01-01      California      Hawthorne         1          3   \n",
       "2       478855 2013-01-01            Ohio         Lorain         1          3   \n",
       "3       478925 2013-01-05        Colorado         Aurora         4          0   \n",
       "4       478959 2013-01-07  North Carolina     Greensboro         2          2   \n",
       "\n",
       "   congressional_district                           incident_characteristics  \\\n",
       "0                    14.0  Shot - Wounded/Injured||Mass Shooting (4+ vict...   \n",
       "1                    43.0  Shot - Wounded/Injured||Shot - Dead (murder, a...   \n",
       "2                     9.0  Shot - Wounded/Injured||Shot - Dead (murder, a...   \n",
       "3                     6.0  Shot - Dead (murder, accidental, suicide)||Off...   \n",
       "4                     6.0  Shot - Wounded/Injured||Shot - Dead (murder, a...   \n",
       "\n",
       "   latitude  longitude  ...  state_house_district state_senate_district  \\\n",
       "0   40.3467    40.3467  ...                   NaN                   NaN   \n",
       "1   33.9090    33.9090  ...                  62.0                  35.0   \n",
       "2   41.4455    41.4455  ...                  56.0                  13.0   \n",
       "3   39.6518    39.6518  ...                  40.0                  28.0   \n",
       "4   36.1140    36.1140  ...                  62.0                  27.0   \n",
       "\n",
       "   date_int      Gun Usage     region  year  month  unemployment_date  \\\n",
       "0  20130101            NaN  Northeast  2013      1         2013-01-01   \n",
       "1  20130101            NaN       West  2013      1         2013-01-01   \n",
       "2  20130101  Multiple Guns    Midwest  2013      1         2013-01-01   \n",
       "3  20130105            NaN       West  2013      1         2013-01-01   \n",
       "4  20130107  Multiple Guns      South  2013      1         2013-01-01   \n",
       "\n",
       "     FR_date unemployment_rate  \n",
       "0 2013-01-01          5.516897  \n",
       "1 2013-01-01          5.516897  \n",
       "2 2013-01-01          5.516897  \n",
       "3 2013-01-01          5.516897  \n",
       "4 2013-01-01          5.516897  \n",
       "\n",
       "[5 rows x 26 columns]"
      ]
     },
     "execution_count": 81,
     "metadata": {},
     "output_type": "execute_result"
    }
   ],
   "source": [
    "df_merged.head()"
   ]
  },
  {
   "cell_type": "markdown",
   "id": "a85ee650",
   "metadata": {},
   "source": [
    "## 4.0 Export Dataframe"
   ]
  },
  {
   "cell_type": "code",
   "execution_count": 83,
   "id": "27d22798",
   "metadata": {},
   "outputs": [],
   "source": [
    "# Define path\n",
    "path = r'C:\\Users\\Owner\\Documents\\Career Foundry\\Gun Violence'\n",
    "\n",
    "# Export data\n",
    "df_merged.to_csv(os.path.join(path, '02 Data', '02 02 Prepared Data', 'gun_violence_final.csv'))"
   ]
  }
 ],
 "metadata": {
  "kernelspec": {
   "display_name": "Python 3 (ipykernel)",
   "language": "python",
   "name": "python3"
  },
  "language_info": {
   "codemirror_mode": {
    "name": "ipython",
    "version": 3
   },
   "file_extension": ".py",
   "mimetype": "text/x-python",
   "name": "python",
   "nbconvert_exporter": "python",
   "pygments_lexer": "ipython3",
   "version": "3.10.9"
  }
 },
 "nbformat": 4,
 "nbformat_minor": 5
}
